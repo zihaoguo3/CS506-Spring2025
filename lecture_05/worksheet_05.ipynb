{
 "cells": [
  {
   "attachments": {},
   "cell_type": "markdown",
   "metadata": {},
   "source": [
    "# Worksheet \n",
    "\n",
    "[QUIZZ](https://forms.gle/RRf5HVH7Vw5xhwAx8)\n",
    "\n",
    "### Kmeans ++\n",
    "\n",
    "a) What's the main limitation of Farthest First Traversal?"
   ]
  },
  {
   "cell_type": "markdown",
   "metadata": {},
   "source": [
    "It may choose outlier to be the next centroid, which is worse than randomlize choosing. "
   ]
  },
  {
   "cell_type": "markdown",
   "metadata": {},
   "source": [
    "b) What is the difference between K means and K means ++?"
   ]
  },
  {
   "cell_type": "markdown",
   "metadata": {},
   "source": [
    "k mean choose centriod all random, kmean++ is first one random, but the rest with probability of calculating the distance."
   ]
  },
  {
   "cell_type": "markdown",
   "metadata": {},
   "source": [
    "c) What are some limitations of Kmeans/ Kmeans++?"
   ]
  },
  {
   "cell_type": "markdown",
   "metadata": {},
   "source": []
  },
  {
   "cell_type": "markdown",
   "metadata": {},
   "source": [
    "d) Explain why we need silhouette scores"
   ]
  },
  {
   "cell_type": "markdown",
   "metadata": {},
   "source": [
    "To check that whether our data points are a good fit in the cluster or not."
   ]
  },
  {
   "cell_type": "code",
   "execution_count": null,
   "metadata": {},
   "outputs": [],
   "source": [
    "import pandas as pd\n",
    "import matplotlib.pyplot as plt\n",
    "\n",
    "df = pd.read_csv(\"./quizz1_scores.csv\")\n",
    "df[['score', 'total']] = df['Scores'].str.split('/', expand=True).astype(float)\n",
    "\n",
    "plt.hist(df['score'], bins=6, edgecolor='black', alpha=0.7)\n",
    "plt.xticks(range(7))\n",
    "plt.xlabel(\"Score\")\n",
    "plt.ylabel(\"Frequency\")\n",
    "plt.title(\"Distribution of Scores\")\n",
    "plt.show()"
   ]
  },
  {
   "cell_type": "code",
   "execution_count": null,
   "metadata": {},
   "outputs": [],
   "source": [
    "import numpy as np\n",
    "\n",
    "num_questions = 6\n",
    "true_answers = ['T', 'F', 'F', 'T', 'T', 'T']\n",
    "num_simulations = 1000\n",
    "\n",
    "scores = []\n",
    "for _ in range(num_simulations):\n",
    "    guesses = np.random.choice(['T', 'F'], size=num_questions)\n",
    "    score = sum(guesses == np.array(true_answers))\n",
    "    scores.append(score)\n",
    "\n",
    "plt.hist(scores, bins=7, edgecolor='black', alpha=0.7, density=True)\n",
    "plt.xticks(range(num_questions+1))\n",
    "plt.xlabel(\"Score (out of 6)\")\n",
    "plt.ylabel(\"Probability\")\n",
    "plt.title(\"Distribution of Scores for Random Guessing on the Quiz\")\n",
    "plt.show()"
   ]
  },
  {
   "cell_type": "code",
   "execution_count": null,
   "metadata": {},
   "outputs": [],
   "source": [
    "print(df['score'].mean())\n",
    "print(np.mean(np.array(scores)))\n",
    "\n",
    "num_questions = 6\n",
    "true_answers = ['T', 'F', 'F', 'T', 'T', 'T']\n",
    "num_simulations = 1000\n",
    "class_size = 151\n",
    "\n",
    "avg_scores = []\n",
    "for _ in range(num_simulations):\n",
    "    scores = []\n",
    "    for _ in range(class_size):\n",
    "        guesses = np.random.choice(['T', 'F'], size=num_questions)\n",
    "        score = sum(guesses == np.array(true_answers))\n",
    "        scores.append(score)\n",
    "        avg_scores.append(np.mean(np.array(scores)))\n",
    "\n",
    "plt.hist(avg_scores, bins=100, density=True)\n",
    "plt.axvline(df['score'].mean(), color='grey', linestyle='dashed')\n",
    "plt.show()"
   ]
  },
  {
   "cell_type": "code",
   "execution_count": null,
   "metadata": {},
   "outputs": [],
   "source": [
    "num_questions = 6\n",
    "true_answers = ['T', 'F', 'F', 'T', 'T', 'T']\n",
    "num_simulations = 1000\n",
    "class_size = 151\n",
    "\n",
    "num_times_random_beats_class = 0\n",
    "for _ in range(num_simulations):\n",
    "    scores = []\n",
    "    for _ in range(class_size):\n",
    "        guesses = np.random.choice(['T', 'F'], size=num_questions)\n",
    "        score = sum(guesses == np.array(true_answers))\n",
    "        scores.append(score)\n",
    "        if np.mean(np.array(scores)) > df['score'].mean():\n",
    "            num_times_random_beats_class += 1\n",
    "\n",
    "print(f'Out of {num_simulations}, random beat the class {num_times_random_beats_class}. Or {num_times_random_beats_class / num_simulations} % of the time')"
   ]
  }
 ],
 "metadata": {
  "kernelspec": {
   "display_name": "Python 3",
   "language": "python",
   "name": "python3"
  },
  "language_info": {
   "codemirror_mode": {
    "name": "ipython",
    "version": 3
   },
   "file_extension": ".py",
   "mimetype": "text/x-python",
   "name": "python",
   "nbconvert_exporter": "python",
   "pygments_lexer": "ipython3",
   "version": "3.9.12"
  },
  "orig_nbformat": 4
 },
 "nbformat": 4,
 "nbformat_minor": 2
}
